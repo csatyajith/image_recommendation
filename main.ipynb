{
 "cells": [
  {
   "cell_type": "code",
   "execution_count": 1,
   "outputs": [
    {
     "name": "stdout",
     "output_type": "stream",
     "text": [
      "processed 1000 asins\n",
      "processed 2000 asins\n",
      "processed 3000 asins\n",
      "processed 4000 asins\n",
      "processed 5000 asins\n",
      "processed 6000 asins\n"
     ]
    }
   ],
   "source": [
    "from analysis2014.process_2014_data import get_image_vec_list\n",
    "item_dict = get_image_vec_list()\n",
    "item_mat = list(item_dict.values())[:50]\n",
    "num_item_feat = len(item_mat[0])\n",
    "\n"
   ],
   "metadata": {
    "collapsed": false,
    "pycharm": {
     "name": "#%%\n"
    }
   }
  },
  {
   "cell_type": "code",
   "execution_count": 2,
   "outputs": [],
   "source": [
    "from analysis2014.process_2014_data import get_mapped_ratings\n",
    "import pandas as pd\n",
    "import json\n",
    "with open(\"analysis2014/baby_5_core_reviews.json\", \"r\") as pvr_file:\n",
    "    pv_rev = json.load(pvr_file)\n",
    "df = pd.DataFrame(pv_rev)"
   ],
   "metadata": {
    "collapsed": false,
    "pycharm": {
     "name": "#%%\n"
    }
   }
  },
  {
   "cell_type": "code",
   "execution_count": 3,
   "outputs": [],
   "source": [
    "counter = 0\n",
    "r_id_r_int_mapping = {}\n",
    "for r_id in pd.unique(df[\"reviewer_id\"]):\n",
    "    if r_id not in r_id_r_int_mapping:\n",
    "        r_id_r_int_mapping[r_id] = counter\n",
    "        counter += 1"
   ],
   "metadata": {
    "collapsed": false,
    "pycharm": {
     "name": "#%%\n"
    }
   }
  },
  {
   "cell_type": "code",
   "execution_count": 4,
   "outputs": [],
   "source": [
    "counter = 0\n",
    "p_id_p_int_mapping = {}\n",
    "for p_id in pd.unique(df[\"asin\"]):\n",
    "    if p_id not in p_id_p_int_mapping:\n",
    "        p_id_p_int_mapping[p_id] = counter\n",
    "        counter += 1"
   ],
   "metadata": {
    "collapsed": false,
    "pycharm": {
     "name": "#%%\n"
    }
   }
  },
  {
   "cell_type": "code",
   "execution_count": 5,
   "outputs": [],
   "source": [
    "import json\n",
    "with open(\"analysis2014/reviews_products.json\", \"w\") as rp:\n",
    "    json.dump(p_id_p_int_mapping, rp)\n",
    "\n",
    "with open(\"analysis2014/reviews_customers.json\", \"w\") as rr:\n",
    "    json.dump(r_id_r_int_mapping, rr)"
   ],
   "metadata": {
    "collapsed": false,
    "pycharm": {
     "name": "#%%\n"
    }
   }
  },
  {
   "cell_type": "code",
   "execution_count": 6,
   "outputs": [],
   "source": [
    "df[\"reviewer_id\"] = df[\"reviewer_id\"].map(r_id_r_int_mapping)\n",
    "df[\"item_id\"] = df[\"asin\"].map(p_id_p_int_mapping)\n"
   ],
   "metadata": {
    "collapsed": false,
    "pycharm": {
     "name": "#%%\n"
    }
   }
  },
  {
   "cell_type": "code",
   "execution_count": 7,
   "outputs": [
    {
     "name": "stdout",
     "output_type": "stream",
     "text": [
      "INFO:tensorflow:Enabling eager execution\n",
      "INFO:tensorflow:Enabling v2 tensorshape\n",
      "INFO:tensorflow:Enabling resource variables\n",
      "INFO:tensorflow:Enabling tensor equality\n",
      "INFO:tensorflow:Enabling control flow v2\n"
     ]
    }
   ],
   "source": [
    "from cdl_model import CollaborativeDeepLearning\n",
    "model = CollaborativeDeepLearning(item_mat, [num_item_feat, 512, 64], item_dict)"
   ],
   "metadata": {
    "collapsed": false,
    "pycharm": {
     "name": "#%%\n"
    }
   }
  },
  {
   "cell_type": "code",
   "execution_count": 8,
   "outputs": [
    {
     "name": "stdout",
     "output_type": "stream",
     "text": [
      "Epoch 1/10\n",
      "1/1 - 12s - loss: 3.1559\n",
      "Epoch 2/10\n",
      "1/1 - 0s - loss: 2.6973\n",
      "Epoch 3/10\n",
      "1/1 - 0s - loss: 2.4202\n",
      "Epoch 4/10\n",
      "1/1 - 0s - loss: 2.2277\n",
      "Epoch 5/10\n",
      "1/1 - 0s - loss: 2.0823\n",
      "Epoch 6/10\n",
      "1/1 - 0s - loss: 1.9654\n",
      "Epoch 7/10\n",
      "1/1 - 0s - loss: 1.8682\n",
      "Epoch 8/10\n",
      "1/1 - 0s - loss: 1.7861\n",
      "Epoch 9/10\n",
      "1/1 - 0s - loss: 1.7155\n",
      "Epoch 10/10\n",
      "1/1 - 0s - loss: 1.6541\n",
      "Epoch 1/10\n",
      "1/1 - 1s - loss: 0.3982\n",
      "Epoch 2/10\n",
      "1/1 - 0s - loss: 0.3670\n",
      "Epoch 3/10\n",
      "1/1 - 0s - loss: 0.3447\n",
      "Epoch 4/10\n",
      "1/1 - 0s - loss: 0.3250\n",
      "Epoch 5/10\n",
      "1/1 - 0s - loss: 0.3071\n",
      "Epoch 6/10\n",
      "1/1 - 0s - loss: 0.2913\n",
      "Epoch 7/10\n",
      "1/1 - 0s - loss: 0.2775\n",
      "Epoch 8/10\n",
      "1/1 - 0s - loss: 0.2653\n",
      "Epoch 9/10\n",
      "1/1 - 0s - loss: 0.2544\n",
      "Epoch 10/10\n",
      "1/1 - 0s - loss: 0.2449\n"
     ]
    }
   ],
   "source": [
    "# This should only be done once\n",
    "model.pretrain(lamda_w=0.001, encoder_noise=0.3, epochs=10)\n",
    "trained_encoders = model.trained_encoders\n",
    "trained_decoders = model.trained_decoders"
   ],
   "metadata": {
    "collapsed": false,
    "pycharm": {
     "name": "#%%\n"
    }
   }
  },
  {
   "cell_type": "code",
   "execution_count": 9,
   "outputs": [],
   "source": [
    "model.trained_encoders = trained_encoders\n",
    "model.trained_decoders = trained_decoders"
   ],
   "metadata": {
    "collapsed": false,
    "pycharm": {
     "name": "#%%\n"
    }
   }
  },
  {
   "cell_type": "code",
   "execution_count": 10,
   "outputs": [
    {
     "name": "stdout",
     "output_type": "stream",
     "text": [
      "Epoch 1/3\n",
      "7/7 [==============================] - 6s 184ms/step - loss: 517.2087 - dot_layer_loss: 110.5922 - model_2_loss: 0.2081 - val_loss: 478.0798 - val_dot_layer_loss: 75.7116 - val_model_2_loss: 0.1815\b\b\b\b\b\b\b\b\b\b\b\b\b\b\b\b\b\b\b\b\b\b\b\b\b\b\b\b\b\b\b\b\b\b\b\b\b\b\b\b\b\b\b\b\b\b\b\b\b\b\b\b\b\b\b\b\b\b\b\b\b\b\b\b\b\b\b\b\b\b\b\b\b\b\b\b\b\b\b\b\b\b\b\b\b\b\b\b\b\b\b\b\b\b\b\b\b\b\b\b\b\b\b\b\b\b\b\b\b\b\b\b\b\b\b\b\b\b\b\b\b\b\b\b\b\b\b\b\b\b\b\b\b\b\b\b\b\b\b\b\b\b\b\b\b\b\b\b\b\b\b\b\b\b\b\b\b\b\b\b\b\b\b\b\b\b\b\b\b\b\b\b\b\b\b\b\b\b\b\b\b\b\b\b\b\b\b\b\b\b\b\b\b\b\b\b\b\b\b\b\b\b\b\b\b\b\b\b\b\b\b\b\b\b\b\b\b\b\b\b\b\b\b\b\b\b\b\b\b\b\b\b\b\b\b\b\b\b\b\b\b\b\b\b\b\b\b\b\b\b\b\b\b\b\b\b\b\b\b\b\b\b\b\b\b\b\b\b\b\b\b\b\b\b\b\b\b\b\b\b\b\b\b\b\b\b\b\b\b\b\b\b\b\b\b\b\b\b\b\b\b\b\b\b\b\b\b\b\b\b\b\b\b\b\b\b\b\b\b\b\b\b\b\b\b\b\b\b\b\b\b\b\b\b\b\b\b\b\b\b\b\b\b\b\b\b\b\b\b\b\b\b\b\b\b\b\b\b\b\b\b\b\b\b\b\b\b\b\b\b\b\b\b\b\b\b\b\b\b\b\b\b\b\b\b\b\b\b\b\b\b\b\b\b\b\b\b\b\b\b\b\b\b\b\b\b\b\b\b\b\b\b\b\b\b\b\b\b\b\b\b\b\b\b\b\b\b\b\b\b\b\b\b\b\b\b\b\b\b\b\b\b\b\b\b\b\b\b\b\b\b\b\b\b\b\b\b\b\b\b\b\b\b\b\b\b\b\b\b\b\b\b\b\b\b\b\b\b\b\b\b\b\b\b\b\b\b\b\b\b\b\b\b\b\b\b\b\b\b\b\b\b\b\b\b\b\b\b\b\b\b\b\b\b\b\b\b\b\b\b\b\b\b\b\b\b\b\b\b\b\b\b\b\b\b\b\b\b\b\b\b\b\b\b\b\b\b\b\b\b\b\b\b\b\b\b\b\b\b\b\b\b\b\b\b\b\b\b\b\b\b\b\b\b\b\b\b\b\b\b\b\b\b\b\b\b\b\b\b\b\b\b\b\b\b\b\n",
      "Epoch 2/3\n",
      "7/7 [==============================] - 0s 54ms/step - loss: 481.9117 - dot_layer_loss: 80.2849 - model_2_loss: 0.1786 - val_loss: 470.2220 - val_dot_layer_loss: 70.9306 - val_model_2_loss: 0.1714\b\b\b\b\b\b\b\b\b\b\b\b\b\b\b\b\b\b\b\b\b\b\b\b\b\b\b\b\b\b\b\b\b\b\b\b\b\b\b\b\b\b\b\b\b\b\b\b\b\b\b\b\b\b\b\b\b\b\b\b\b\b\b\b\b\b\b\b\b\b\b\b\b\b\b\b\b\b\b\b\b\b\b\b\b\b\b\b\b\b\b\b\b\b\b\b\b\b\b\b\b\b\b\b\b\b\b\b\b\b\b\b\b\b\b\b\b\b\b\b\b\b\b\b\b\b\b\b\b\b\b\b\b\b\b\b\b\b\b\b\b\b\b\b\b\b\b\b\b\b\b\b\b\b\b\b\b\b\b\b\b\b\b\b\b\b\b\b\b\b\b\b\b\b\b\b\b\b\b\b\b\b\b\b\b\b\b\b\b\b\b\b\b\b\b\b\b\b\b\b\b\b\b\b\b\b\b\b\b\b\b\b\b\b\b\b\b\b\b\b\b\b\b\b\b\b\b\b\b\b\b\b\b\b\b\b\b\b\b\b\b\b\b\b\b\b\b\b\b\b\b\b\b\b\b\b\b\b\b\b\b\b\b\b\b\b\b\b\b\b\b\b\b\b\b\b\b\b\b\b\b\b\b\b\b\b\b\b\b\b\b\b\b\b\b\b\b\b\b\b\b\b\b\b\b\b\b\b\b\b\b\b\b\b\b\b\b\b\b\b\b\b\b\b\b\b\b\b\b\b\b\b\b\b\b\b\b\b\b\b\b\b\b\b\b\b\b\b\b\b\b\b\b\b\b\b\b\b\b\b\b\b\b\b\b\n",
      "Epoch 3/3\n",
      "7/7 [==============================] - 0s 54ms/step - loss: 465.7870 - dot_layer_loss: 67.1236 - model_2_loss: 0.1705 - val_loss: 465.6676 - val_dot_layer_loss: 69.1032 - val_model_2_loss: 0.1687\b\b\b\b\b\b\b\b\b\b\b\b\b\b\b\b\b\b\b\b\b\b\b\b\b\b\b\b\b\b\b\b\b\b\b\b\b\b\b\b\b\b\b\b\b\b\b\b\b\b\b\b\b\b\b\b\b\b\b\b\b\b\b\b\b\b\b\b\b\b\b\b\b\b\b\b\b\b\b\b\b\b\b\b\b\b\b\b\b\b\b\b\b\b\b\b\b\b\b\b\b\b\b\b\b\b\b\b\b\b\b\b\b\b\b\b\b\b\b\b\b\b\b\b\b\b\b\b\b\b\b\b\b\b\b\b\b\b\b\b\b\b\b\b\b\b\b\b\b\b\b\b\b\b\b\b\b\b\b\b\b\b\b\b\b\b\b\b\b\b\b\b\b\b\b\b\b\b\b\b\b\b\b\b\b\b\b\b\b\b\b\b\b\b\b\b\b\b\b\b\b\b\b\b\b\b\b\b\b\b\b\b\b\b\b\b\b\b\b\b\b\b\b\b\b\b\b\b\b\b\b\b\b\b\b\b\b\b\b\b\b\b\b\b\b\b\b\b\b\b\b\b\b\b\b\b\b\b\b\b\b\b\b\b\b\b\b\b\b\b\b\b\b\b\b\b\b\b\b\b\b\b\b\b\b\b\b\b\b\b\b\b\b\b\b\b\b\b\b\b\b\b\b\b\b\b\b\b\b\b\b\b\b\b\b\b\b\b\b\b\b\b\b\b\b\b\b\b\b\b\b\b\b\b\b\b\b\b\b\b\b\b\b\b\b\b\b\b\b\b\b\b\b\b\b\b\b\b\b\b\b\b\b\b\b\b\b\b\b\b\b\b\b\b\b\b\b\b\b\b\b\b\b\b\b\b\b\b\b\b\b\b\b\b\b\b\b\b\b\b\b\b\b\b\b\b\b\b\b\b\b\b\b\b\b\b\b\b\b\b\b\b\b\b\b\b\b\b\b\b\b\b\b\b\b\b\b\b\b\b\b\b\b\b\b\b\b\b\b\b\b\b\b\b\b\b\b\b\b\b\b\b\b\b\b\b\b\b\b\b\b\b\b\b\b\b\b\n",
      "Testing RMSE = 8.312832813259453\n"
     ]
    }
   ],
   "source": [
    "train_mat = df.iloc[:500,].sample(frac=0.8,random_state=200) #random state is a seed value\n",
    "test_mat = df.iloc[:500].drop(train_mat.index)\n",
    "model_history = model.fineture(train_mat, test_mat, lamda_u=0.01, lamda_v=0.1, lamda_n=0.1, lr=0.01, epochs=3)\n",
    "testing_rmse = model.getRMSE(test_mat)\n",
    "print('Testing RMSE = {}'.format(testing_rmse))"
   ],
   "metadata": {
    "collapsed": false,
    "pycharm": {
     "name": "#%%\n"
    }
   }
  }
 ],
 "metadata": {
  "kernelspec": {
   "display_name": "Python 3",
   "language": "python",
   "name": "python3"
  },
  "language_info": {
   "codemirror_mode": {
    "name": "ipython",
    "version": 2
   },
   "file_extension": ".py",
   "mimetype": "text/x-python",
   "name": "python",
   "nbconvert_exporter": "python",
   "pygments_lexer": "ipython2",
   "version": "2.7.6"
  }
 },
 "nbformat": 4,
 "nbformat_minor": 0
}